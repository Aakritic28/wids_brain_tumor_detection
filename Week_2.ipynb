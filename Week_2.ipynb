{
  "nbformat": 4,
  "nbformat_minor": 0,
  "metadata": {
    "colab": {
      "provenance": []
    },
    "kernelspec": {
      "name": "python3",
      "display_name": "Python 3"
    },
    "language_info": {
      "name": "python"
    }
  },
  "cells": [
    {
      "cell_type": "markdown",
      "source": [
        "# Linear Regression\n",
        "\n",
        "Linear regression analysis is used to predict the value of a variable based on the value of another variable. The variable you want to predict is called the dependent variable. The variable you are using to predict the other variable's value is called the independent variable\n",
        "\n",
        "This week, your task involves conducting multi-class linear regression on batsmen salaries. You'll use the average runs scored per game and the strike rate as independent variables. The goal is to predict the salary as the dependent variable. Additionally, you'll be categorizing the data based on the years.\n",
        "\n",
        "The dataset is Data_Mendeley.csv given on GitHub. Feel free to create any new functions required."
      ],
      "metadata": {
        "id": "4OSeJ-R-y9s7"
      }
    },
    {
      "cell_type": "code",
      "source": [
        "#import important libraries\n",
        "import numpy as np\n",
        "from sklearn import datasets\n",
        "from sklearn.model_selection import train_test_split\n",
        "import matplotlib.pyplot as plt"
      ],
      "metadata": {
        "id": "AZ77VEImzRW5"
      },
      "execution_count": 4,
      "outputs": []
    },
    {
      "cell_type": "markdown",
      "source": [
        "preparing data"
      ],
      "metadata": {
        "id": "2oQPpSttzqt6"
      }
    },
    {
      "cell_type": "code",
      "source": [
        "#mounting gdrive"
      ],
      "metadata": {
        "id": "NgyvUuEMAVEr"
      },
      "execution_count": null,
      "outputs": []
    },
    {
      "cell_type": "code",
      "source": [
        "from google.colab import drive\n",
        "from sklearn.preprocessing import StandardScaler\n",
        "import pandas as pd\n",
        "drive.mount('/content/gdrive')\n",
        "path='/content/gdrive/My Drive/Colab Notebooks/Data_Mendeley.csv'\n",
        "read=pd.read_csv(path)\n",
        "#extracting data according to a particular batsmen using his id\n",
        "batsman_id= 1\n",
        "batsman_data=read[read['Id']==batsman_id]\n",
        "X = batsman_data[['Ave', 'StrRate']]\n",
        "\n",
        "scaler=StandardScaler()\n",
        "X_normalized=scaler.fit_transform(X)\n",
        "\n",
        "y=batsman_data['Final Price']\n",
        "\n",
        "X_train, X_test, y_train, y_test = train_test_split(X_normalized, y, test_size=0.2, random_state=1234)\n"
      ],
      "metadata": {
        "id": "C9C0MZOGzg7g",
        "colab": {
          "base_uri": "https://localhost:8080/"
        },
        "outputId": "03bbeb51-8672-47d8-f35a-e8161226a0de"
      },
      "execution_count": null,
      "outputs": [
        {
          "output_type": "stream",
          "name": "stdout",
          "text": [
            "Drive already mounted at /content/gdrive; to attempt to forcibly remount, call drive.mount(\"/content/gdrive\", force_remount=True).\n"
          ]
        }
      ]
    },
    {
      "cell_type": "markdown",
      "source": [
        "Forward pass"
      ],
      "metadata": {
        "id": "LV9ROCrR1hQ5"
      }
    },
    {
      "cell_type": "code",
      "source": [
        "def forward(x):\n",
        "  pass"
      ],
      "metadata": {
        "id": "AgySD6Ac1DCw"
      },
      "execution_count": null,
      "outputs": []
    },
    {
      "cell_type": "markdown",
      "source": [
        "Mean Squared Loss"
      ],
      "metadata": {
        "id": "B3uHaq5x1i7p"
      }
    },
    {
      "cell_type": "code",
      "source": [
        "\n",
        "def loss(y,y_pred): #Mean Squared Loss\n",
        "  return np.mean((y-y_pred)**2)\n",
        "  pass"
      ],
      "metadata": {
        "id": "eP2rV0z21IaN"
      },
      "execution_count": null,
      "outputs": []
    },
    {
      "cell_type": "markdown",
      "source": [
        "Implement Linear regression here :)"
      ],
      "metadata": {
        "id": "0JoKzzr_1uvt"
      }
    },
    {
      "cell_type": "code",
      "source": [
        "\n",
        "class LinearRegression:\n",
        "    def __init__(self, lr=0.1, iters=1000):\n",
        "        self.lr = lr\n",
        "        self.iters = iters\n",
        "        self.weights = None\n",
        "        self.bias = None\n",
        "\n",
        "    def fit(self, X, y):\n",
        "        samples, features = X.shape\n",
        "        self.weights = np.zeros(features)\n",
        "        self.bias = 0\n",
        "        for _ in range(self.iters):\n",
        "            y_pred = np.dot(X, self.weights) + self.bias\n",
        "            dw = (1 / samples) * np.dot(X.T, (y_pred - y))\n",
        "            db = (1 / samples) * np.sum(y_pred - y)\n",
        "\n",
        "            self.weights = self.weights - self.lr * dw\n",
        "            self.bias = self.bias - self.lr * db\n",
        "\n",
        "\n",
        "    def predict(self, X):\n",
        "        y_pred = np.dot(X, self.weights) + self.bias\n",
        "        return y_pred\n",
        "\n",
        "\n",
        "# Initiating linear regression\n",
        "reg = LinearRegression(lr=0.05)\n",
        "\n",
        "# Fitting the model\n",
        "reg.fit(X_train, y_train)\n",
        "\n",
        "# Making predictions on the test data\n",
        "y_pred = reg.predict(X_test)\n",
        "\n",
        "# Calculate Mean Squared Error\n",
        "mse = loss(y_test, y_pred)\n",
        "print(f'Mean Squared Error: {mse}')\n",
        "\n",
        "# Plotting  the results\n",
        "plt.scatter(X_test[:, 0], y_test, color='black', s=10, label='True values')\n",
        "plt.scatter(X_test[:, 0], y_pred, color='red', linewidth=2, label='Prediction')\n",
        "plt.xlabel('Ave')\n",
        "plt.ylabel('salary')\n",
        "plt.legend()\n",
        "plt.show()\n"
      ],
      "metadata": {
        "id": "k2W3q6eR1d2J",
        "colab": {
          "base_uri": "https://localhost:8080/",
          "height": 482
        },
        "outputId": "34bfb8da-1a00-43e3-f155-dc27f4f0690e"
      },
      "execution_count": null,
      "outputs": [
        {
          "output_type": "stream",
          "name": "stdout",
          "text": [
            "Mean Squared Error: 76963910341044.56\n"
          ]
        },
        {
          "output_type": "display_data",
          "data": {
            "text/plain": [
              "<Figure size 640x480 with 1 Axes>"
            ],
            "image/png": "[encoded data removed]"
          },
          "metadata": {}
        }
      ]
    },
    {
      "cell_type": "markdown",
      "source": [
        "# Logistic Regression\n",
        "\n",
        "Logistic regression is a process of modeling the probability of a discrete outcome given an input variable. The most common logistic regression models a binary outcome; something that can take two values such as true/false, yes/no, and so on.\n",
        "\n",
        "In this week you will be doing logistic regression on breast cancer dataset using sklearn library. Feel free to create any new functions required."
      ],
      "metadata": {
        "id": "aTAky_OS1w0P"
      }
    },
    {
      "cell_type": "code",
      "source": [
        "#importinf libraries\n",
        "from sklearn.preprocessing import StandardScaler\n",
        "from sklearn.model_selection import train_test_split\n",
        "import numpy as np"
      ],
      "metadata": {
        "id": "E56ck0_P2NR9"
      },
      "execution_count": 1,
      "outputs": []
    },
    {
      "cell_type": "markdown",
      "source": [
        "Prepare Data"
      ],
      "metadata": {
        "id": "qojSAol72cmH"
      }
    },
    {
      "cell_type": "code",
      "source": [
        "breast_cancer = datasets.load_breast_cancer()\n",
        "X, y = breast_cancer.data, breast_cancer.target"
      ],
      "metadata": {
        "id": "_uUSV8Xk2ePh"
      },
      "execution_count": 5,
      "outputs": []
    },
    {
      "cell_type": "code",
      "source": [
        "#spliting data for training and testing\n",
        "X_train, X_test, y_train, y_test = train_test_split(X, y, test_size=0.2, random_state=1234)\n",
        "sc = StandardScaler()\n",
        "X_train = sc.fit_transform(X_train)\n",
        "X_test = sc.transform(X_test)"
      ],
      "metadata": {
        "id": "N6jcbk5g29XW"
      },
      "execution_count": 6,
      "outputs": []
    },
    {
      "cell_type": "markdown",
      "source": [
        "Forward pass"
      ],
      "metadata": {
        "id": "ofghhz-63Ru5"
      }
    },
    {
      "cell_type": "code",
      "source": [
        "def forward_log(x):\n",
        "  pass"
      ],
      "metadata": {
        "id": "K1JzUVko3Zob"
      },
      "execution_count": 7,
      "outputs": []
    },
    {
      "cell_type": "markdown",
      "source": [
        "Binary cross entropy loss"
      ],
      "metadata": {
        "id": "R4ldHUJs3d2V"
      }
    },
    {
      "cell_type": "code",
      "source": [
        "def BCELoss(y,y_pred):\n",
        "  loss = -(y * np.log(y_pred) + (1 - y) * np.log(1 - y_pred))\n",
        "  mean_loss=np.mean(loss)\n",
        "  return mean_loss\n",
        "  pass"
      ],
      "metadata": {
        "id": "QkXgo04D3dGW"
      },
      "execution_count": 8,
      "outputs": []
    },
    {
      "cell_type": "markdown",
      "source": [
        "Implement Logistic Regression here :)"
      ],
      "metadata": {
        "id": "OIuuOJcJ3sti"
      }
    },
    {
      "cell_type": "code",
      "source": [
        "\n",
        "def sigmoid(x):\n",
        "  return (1/(1 + np.exp(-x)))\n",
        "\n",
        "\n",
        "\n",
        "class LogisticRegression:\n",
        "    def __init__(self, lr=0.01, iters=1000):\n",
        "        self.lr = lr\n",
        "        self.iters = iters\n",
        "        self.weights = None\n",
        "        self.bias = None\n",
        "\n",
        "    def fit(self, X, y):\n",
        "        samples, features = X.shape\n",
        "        self.weights = np.zeros(features)\n",
        "        self.bias = 0\n",
        "        for _ in range(self.iters):\n",
        "            linear_pred = np.dot(X, self.weights) + self.bias\n",
        "            y_pred=sigmoid(linear_pred)\n",
        "\n",
        "            dw = (1 / samples) * np.dot(X.T, (y_pred - y))\n",
        "            db = (1 / samples) * np.sum(y_pred - y)\n",
        "\n",
        "            self.weights = self.weights - self.lr * dw\n",
        "            self.bias = self.bias - self.lr * db\n",
        "\n",
        "    def predict(self, X):\n",
        "        linear_pred = np.dot(X, self.weights) + self.bias\n",
        "        y_pred = sigmoid(linear_pred)\n",
        "        return y_pred\n",
        "\n",
        "# Initiating logistic regression\n",
        "reg = LogisticRegression()\n",
        "\n",
        "# Fitting the model\n",
        "reg.fit(X_train, y_train)\n",
        "\n",
        "# Making predictions on the test data\n",
        "y_pred = reg.predict(X_test)\n",
        "\n",
        "#class prediction\n",
        "class_pred=[0 if y<=0.5 else 1 for y in y_pred]\n",
        "\n",
        "y_test = np.array(y_test)\n",
        "y_pred = np.array(y_pred)\n",
        "\n",
        "bce=BCELoss(y_test, y_pred)\n",
        "print(f'Binary cross entropy loss {bce}')\n",
        "\n",
        "\n",
        "\n"
      ],
      "metadata": {
        "id": "gBJ6H_ss3yUr",
        "colab": {
          "base_uri": "https://localhost:8080/"
        },
        "outputId": "1ef1ff98-dded-4322-ce8b-767fb0d921e7"
      },
      "execution_count": 11,
      "outputs": [
        {
          "output_type": "stream",
          "name": "stdout",
          "text": [
            "Binary cross entropy loss 0.16113495819476906\n"
          ]
        }
      ]
    }
  ]
}